{
 "cells": [
  {
   "cell_type": "code",
   "execution_count": 187,
   "id": "d40788e1",
   "metadata": {},
   "outputs": [],
   "source": [
    "# import packages\n",
    "import pandas as pd\n",
    "import numpy as np\n",
    "from sklearn.preprocessing import StandardScaler\n",
    "from sklearn.model_selection import train_test_split\n",
    "from sklearn.metrics import confusion_matrix, f1_score, precision_score, recall_score\n",
    "import tensorflow as tf\n",
    "from tensorflow import keras\n",
    "from tensorflow.python.keras import layers\n",
    "from tensorflow.python.keras.layers import Input, Dense, Dropout\n",
    "from tensorflow.python.keras.models import Sequential\n",
    "from keras.optimizers import Adam\n",
    "import seaborn as sns\n",
    "import matplotlib.pyplot as plt\n",
    "import keras_tuner as kt"
   ]
  },
  {
   "cell_type": "code",
   "execution_count": 188,
   "id": "2422b573",
   "metadata": {},
   "outputs": [],
   "source": [
    "# read in file\n",
    "df = pd.read_csv('Churn_modelling.csv')"
   ]
  },
  {
   "cell_type": "code",
   "execution_count": 211,
   "id": "5515e6f3",
   "metadata": {},
   "outputs": [
    {
     "data": {
      "text/html": [
       "<div>\n",
       "<style scoped>\n",
       "    .dataframe tbody tr th:only-of-type {\n",
       "        vertical-align: middle;\n",
       "    }\n",
       "\n",
       "    .dataframe tbody tr th {\n",
       "        vertical-align: top;\n",
       "    }\n",
       "\n",
       "    .dataframe thead th {\n",
       "        text-align: right;\n",
       "    }\n",
       "</style>\n",
       "<table border=\"1\" class=\"dataframe\">\n",
       "  <thead>\n",
       "    <tr style=\"text-align: right;\">\n",
       "      <th></th>\n",
       "      <th>RowNumber</th>\n",
       "      <th>CustomerId</th>\n",
       "      <th>Surname</th>\n",
       "      <th>CreditScore</th>\n",
       "      <th>Geography</th>\n",
       "      <th>Gender</th>\n",
       "      <th>Age</th>\n",
       "      <th>Tenure</th>\n",
       "      <th>Balance</th>\n",
       "      <th>NumOfProducts</th>\n",
       "      <th>HasCrCard</th>\n",
       "      <th>IsActiveMember</th>\n",
       "      <th>EstimatedSalary</th>\n",
       "      <th>Exited</th>\n",
       "    </tr>\n",
       "  </thead>\n",
       "  <tbody>\n",
       "    <tr>\n",
       "      <th>0</th>\n",
       "      <td>1</td>\n",
       "      <td>15634602</td>\n",
       "      <td>Hargrave</td>\n",
       "      <td>619</td>\n",
       "      <td>France</td>\n",
       "      <td>Female</td>\n",
       "      <td>42</td>\n",
       "      <td>2</td>\n",
       "      <td>0.00</td>\n",
       "      <td>1</td>\n",
       "      <td>1</td>\n",
       "      <td>1</td>\n",
       "      <td>101348.88</td>\n",
       "      <td>1</td>\n",
       "    </tr>\n",
       "    <tr>\n",
       "      <th>1</th>\n",
       "      <td>2</td>\n",
       "      <td>15647311</td>\n",
       "      <td>Hill</td>\n",
       "      <td>608</td>\n",
       "      <td>Spain</td>\n",
       "      <td>Female</td>\n",
       "      <td>41</td>\n",
       "      <td>1</td>\n",
       "      <td>83807.86</td>\n",
       "      <td>1</td>\n",
       "      <td>0</td>\n",
       "      <td>1</td>\n",
       "      <td>112542.58</td>\n",
       "      <td>0</td>\n",
       "    </tr>\n",
       "    <tr>\n",
       "      <th>2</th>\n",
       "      <td>3</td>\n",
       "      <td>15619304</td>\n",
       "      <td>Onio</td>\n",
       "      <td>502</td>\n",
       "      <td>France</td>\n",
       "      <td>Female</td>\n",
       "      <td>42</td>\n",
       "      <td>8</td>\n",
       "      <td>159660.80</td>\n",
       "      <td>3</td>\n",
       "      <td>1</td>\n",
       "      <td>0</td>\n",
       "      <td>113931.57</td>\n",
       "      <td>1</td>\n",
       "    </tr>\n",
       "    <tr>\n",
       "      <th>3</th>\n",
       "      <td>4</td>\n",
       "      <td>15701354</td>\n",
       "      <td>Boni</td>\n",
       "      <td>699</td>\n",
       "      <td>France</td>\n",
       "      <td>Female</td>\n",
       "      <td>39</td>\n",
       "      <td>1</td>\n",
       "      <td>0.00</td>\n",
       "      <td>2</td>\n",
       "      <td>0</td>\n",
       "      <td>0</td>\n",
       "      <td>93826.63</td>\n",
       "      <td>0</td>\n",
       "    </tr>\n",
       "    <tr>\n",
       "      <th>4</th>\n",
       "      <td>5</td>\n",
       "      <td>15737888</td>\n",
       "      <td>Mitchell</td>\n",
       "      <td>850</td>\n",
       "      <td>Spain</td>\n",
       "      <td>Female</td>\n",
       "      <td>43</td>\n",
       "      <td>2</td>\n",
       "      <td>125510.82</td>\n",
       "      <td>1</td>\n",
       "      <td>1</td>\n",
       "      <td>1</td>\n",
       "      <td>79084.10</td>\n",
       "      <td>0</td>\n",
       "    </tr>\n",
       "  </tbody>\n",
       "</table>\n",
       "</div>"
      ],
      "text/plain": [
       "   RowNumber  CustomerId   Surname  CreditScore Geography  Gender  Age  \\\n",
       "0          1    15634602  Hargrave          619    France  Female   42   \n",
       "1          2    15647311      Hill          608     Spain  Female   41   \n",
       "2          3    15619304      Onio          502    France  Female   42   \n",
       "3          4    15701354      Boni          699    France  Female   39   \n",
       "4          5    15737888  Mitchell          850     Spain  Female   43   \n",
       "\n",
       "   Tenure    Balance  NumOfProducts  HasCrCard  IsActiveMember  \\\n",
       "0       2       0.00              1          1               1   \n",
       "1       1   83807.86              1          0               1   \n",
       "2       8  159660.80              3          1               0   \n",
       "3       1       0.00              2          0               0   \n",
       "4       2  125510.82              1          1               1   \n",
       "\n",
       "   EstimatedSalary  Exited  \n",
       "0        101348.88       1  \n",
       "1        112542.58       0  \n",
       "2        113931.57       1  \n",
       "3         93826.63       0  \n",
       "4         79084.10       0  "
      ]
     },
     "execution_count": 211,
     "metadata": {},
     "output_type": "execute_result"
    }
   ],
   "source": [
    "# view first 5 records\n",
    "df.head()"
   ]
  },
  {
   "cell_type": "code",
   "execution_count": 212,
   "id": "8979fcf0",
   "metadata": {},
   "outputs": [],
   "source": [
    "# separate continuous and categorical features\n",
    "features = df.drop(['RowNumber','CustomerId','Surname','Exited'],axis=1)\n",
    "cont_features = features.select_dtypes(include=[np.number])\n",
    "cat_features = features.select_dtypes(include=['bool'])\n",
    "encoded_cat_features = pd.get_dummies(features[['Geography','Gender']])"
   ]
  },
  {
   "cell_type": "code",
   "execution_count": 213,
   "id": "c0d9fa6d",
   "metadata": {},
   "outputs": [],
   "source": [
    "# standardize continuous features \n",
    "scaler = StandardScaler()\n",
    "cont_features_scaled = pd.DataFrame(scaler.fit_transform(cont_features),\n",
    "                                    columns=scaler.get_feature_names_out())"
   ]
  },
  {
   "cell_type": "code",
   "execution_count": 214,
   "id": "15e8917a",
   "metadata": {},
   "outputs": [],
   "source": [
    "# join scaled continuous features with categorical features\n",
    "# select 'Exited' as target variable\n",
    "X = pd.concat((cont_features_scaled,encoded_cat_features),axis=1)\n",
    "y = df['Exited']"
   ]
  },
  {
   "cell_type": "code",
   "execution_count": 215,
   "id": "88d89cab",
   "metadata": {},
   "outputs": [],
   "source": [
    "# split data into training and test sets\n",
    "X_train, X_test, y_train, y_test = train_test_split(X, y, test_size=0.2, random_state=1)"
   ]
  },
  {
   "cell_type": "code",
   "execution_count": 216,
   "id": "4e36bb9a",
   "metadata": {},
   "outputs": [],
   "source": [
    "# create cross-validation sets\n",
    "X_train, X_val, y_train, y_val = train_test_split(X, y, test_size = 0.25)"
   ]
  },
  {
   "cell_type": "code",
   "execution_count": 250,
   "id": "c4f223e0",
   "metadata": {},
   "outputs": [],
   "source": [
    "# define model architecture with hyperparameter variables \n",
    "def create_model(neurons1,neurons2,lr,dr1,dr2):\n",
    "        \n",
    "        model = keras.Sequential([\n",
    "        #keras.layers.Input(shape=(None,10,13)),\n",
    "        keras.layers.Dense(units=neurons1,activation='sigmoid'),\n",
    "        keras.layers.Dropout(rate=dr1),\n",
    "        keras.layers.Dense(units=neurons2,activation='sigmoid'),\n",
    "        keras.layers.Dropout(rate=dr2),\n",
    "        keras.layers.Dense(units=1,activation='sigmoid')\n",
    "        ])\n",
    "\n",
    "        model.compile(loss='binary_crossentropy', metrics = ['accuracy'], optimizer = Adam(learning_rate=lr))\n",
    "\n",
    "        return model\n",
    "\n",
    "# set hyperparameter tuning ranges\n",
    "def build_model(hp):\n",
    "\n",
    "    neurons1 = hp.Int(\"units1\", min_value=6, max_value=24)\n",
    "    neurons2 = hp.Int(\"units2\", min_value=6, max_value=24)\n",
    "    lr = hp.Float(\"learning_rate\", min_value=1e-4,max_value=1e-2)\n",
    "    dr1 = hp.Float(\"dropout_rate1\", min_value=0.2,max_value=0.5)\n",
    "    dr2 = hp.Float(\"dropout_rate2\", min_value=0.2,max_value=0.5)\n",
    "    \n",
    "    model = create_model(\n",
    "        neurons1=neurons1,\n",
    "        neurons2=neurons2,\n",
    "        lr=lr,\n",
    "        dr1=dr1,\n",
    "        dr2=dr2\n",
    "        )\n",
    "    return model"
   ]
  },
  {
   "cell_type": "code",
   "execution_count": 251,
   "id": "5d39e3f5",
   "metadata": {},
   "outputs": [],
   "source": [
    "# initialize Bayesian Optimimization hyperparameter tuner\n",
    "tuner = kt.BayesianOptimization(\n",
    "    build_model,\n",
    "    objective='val_loss',\n",
    "    max_trials=10,\n",
    "    overwrite=True\n",
    ")"
   ]
  },
  {
   "cell_type": "code",
   "execution_count": 252,
   "id": "77c8be41",
   "metadata": {},
   "outputs": [
    {
     "name": "stdout",
     "output_type": "stream",
     "text": [
      "Trial 10 Complete [00h 00m 24s]\n",
      "val_loss: 0.3935874402523041\n",
      "\n",
      "Best val_loss So Far: 0.3481932282447815\n",
      "Total elapsed time: 00h 04m 09s\n",
      "INFO:tensorflow:Oracle triggered exit\n"
     ]
    }
   ],
   "source": [
    "# search combinations of hyperparameters for optimal outputs\n",
    "tuner.search(X_train,y_train,epochs=10,validation_data=(X_val,y_val),batch_size=10)\n",
    "best_model = tuner.get_best_models()[0]\n",
    "best_hps = tuner.get_best_hyperparameters(num_trials=1)[0]"
   ]
  },
  {
   "cell_type": "code",
   "execution_count": 254,
   "id": "0a6e3c7d",
   "metadata": {},
   "outputs": [
    {
     "name": "stdout",
     "output_type": "stream",
     "text": [
      "best units1:  22\n",
      "best units2:  13\n",
      "best lr:  0.007216151732650057\n",
      "best dr1:  0.2247048727763524\n",
      "best dr2:  0.23128584772321611\n"
     ]
    }
   ],
   "source": [
    "# view individual optimal hyperparameters\n",
    "print(\"best units1: \", best_hps.get('units1'))\n",
    "print(\"best units2: \", best_hps.get('units2'))\n",
    "print(\"best lr: \", best_hps.get('learning_rate'))\n",
    "print(\"best dr1: \", best_hps.get('dropout_rate1'))\n",
    "print(\"best dr2: \", best_hps.get('dropout_rate2'))"
   ]
  },
  {
   "cell_type": "code",
   "execution_count": 256,
   "id": "24322843",
   "metadata": {},
   "outputs": [
    {
     "name": "stdout",
     "output_type": "stream",
     "text": [
      "Epoch 1/100\n",
      "750/750 - 3s - loss: 0.3596 - accuracy: 0.8521 - val_loss: 0.3466 - val_accuracy: 0.8604 - 3s/epoch - 4ms/step\n",
      "Epoch 2/100\n",
      "750/750 - 2s - loss: 0.3587 - accuracy: 0.8516 - val_loss: 0.3434 - val_accuracy: 0.8600 - 2s/epoch - 3ms/step\n",
      "Epoch 3/100\n",
      "750/750 - 2s - loss: 0.3580 - accuracy: 0.8519 - val_loss: 0.3492 - val_accuracy: 0.8616 - 2s/epoch - 3ms/step\n",
      "Epoch 4/100\n",
      "750/750 - 2s - loss: 0.3545 - accuracy: 0.8556 - val_loss: 0.3464 - val_accuracy: 0.8600 - 2s/epoch - 3ms/step\n",
      "Epoch 5/100\n",
      "750/750 - 2s - loss: 0.3524 - accuracy: 0.8544 - val_loss: 0.3460 - val_accuracy: 0.8584 - 2s/epoch - 3ms/step\n",
      "Epoch 6/100\n",
      "750/750 - 2s - loss: 0.3514 - accuracy: 0.8537 - val_loss: 0.3529 - val_accuracy: 0.8612 - 2s/epoch - 3ms/step\n",
      "Epoch 7/100\n",
      "750/750 - 2s - loss: 0.3488 - accuracy: 0.8541 - val_loss: 0.3436 - val_accuracy: 0.8564 - 2s/epoch - 3ms/step\n",
      "Epoch 8/100\n",
      "750/750 - 2s - loss: 0.3503 - accuracy: 0.8536 - val_loss: 0.3457 - val_accuracy: 0.8572 - 2s/epoch - 3ms/step\n",
      "Epoch 9/100\n",
      "750/750 - 2s - loss: 0.3510 - accuracy: 0.8529 - val_loss: 0.3438 - val_accuracy: 0.8576 - 2s/epoch - 3ms/step\n",
      "Epoch 10/100\n",
      "750/750 - 2s - loss: 0.3444 - accuracy: 0.8547 - val_loss: 0.3446 - val_accuracy: 0.8628 - 2s/epoch - 3ms/step\n",
      "Epoch 11/100\n",
      "750/750 - 2s - loss: 0.3520 - accuracy: 0.8529 - val_loss: 0.3426 - val_accuracy: 0.8604 - 2s/epoch - 3ms/step\n",
      "Epoch 12/100\n",
      "750/750 - 2s - loss: 0.3508 - accuracy: 0.8559 - val_loss: 0.3439 - val_accuracy: 0.8608 - 2s/epoch - 3ms/step\n",
      "Epoch 13/100\n",
      "750/750 - 2s - loss: 0.3442 - accuracy: 0.8589 - val_loss: 0.3433 - val_accuracy: 0.8640 - 2s/epoch - 3ms/step\n",
      "Epoch 14/100\n",
      "750/750 - 2s - loss: 0.3495 - accuracy: 0.8595 - val_loss: 0.3437 - val_accuracy: 0.8596 - 2s/epoch - 3ms/step\n",
      "Epoch 15/100\n",
      "750/750 - 2s - loss: 0.3431 - accuracy: 0.8520 - val_loss: 0.3444 - val_accuracy: 0.8588 - 2s/epoch - 3ms/step\n",
      "Epoch 16/100\n",
      "750/750 - 2s - loss: 0.3472 - accuracy: 0.8552 - val_loss: 0.3445 - val_accuracy: 0.8632 - 2s/epoch - 3ms/step\n",
      "Epoch 17/100\n",
      "750/750 - 2s - loss: 0.3443 - accuracy: 0.8564 - val_loss: 0.3433 - val_accuracy: 0.8596 - 2s/epoch - 3ms/step\n",
      "Epoch 18/100\n",
      "750/750 - 2s - loss: 0.3482 - accuracy: 0.8587 - val_loss: 0.3417 - val_accuracy: 0.8584 - 2s/epoch - 3ms/step\n",
      "Epoch 19/100\n",
      "750/750 - 2s - loss: 0.3454 - accuracy: 0.8579 - val_loss: 0.3444 - val_accuracy: 0.8576 - 2s/epoch - 3ms/step\n",
      "Epoch 20/100\n",
      "750/750 - 2s - loss: 0.3437 - accuracy: 0.8568 - val_loss: 0.3409 - val_accuracy: 0.8588 - 2s/epoch - 3ms/step\n",
      "Epoch 21/100\n",
      "750/750 - 2s - loss: 0.3453 - accuracy: 0.8607 - val_loss: 0.3416 - val_accuracy: 0.8620 - 2s/epoch - 3ms/step\n",
      "Epoch 22/100\n",
      "750/750 - 2s - loss: 0.3459 - accuracy: 0.8540 - val_loss: 0.3430 - val_accuracy: 0.8588 - 2s/epoch - 3ms/step\n",
      "Epoch 23/100\n",
      "750/750 - 2s - loss: 0.3468 - accuracy: 0.8544 - val_loss: 0.3431 - val_accuracy: 0.8604 - 2s/epoch - 3ms/step\n",
      "Epoch 24/100\n",
      "750/750 - 2s - loss: 0.3456 - accuracy: 0.8573 - val_loss: 0.3418 - val_accuracy: 0.8648 - 2s/epoch - 3ms/step\n",
      "Epoch 25/100\n",
      "750/750 - 2s - loss: 0.3465 - accuracy: 0.8549 - val_loss: 0.3447 - val_accuracy: 0.8644 - 2s/epoch - 3ms/step\n",
      "Epoch 26/100\n",
      "750/750 - 2s - loss: 0.3419 - accuracy: 0.8611 - val_loss: 0.3437 - val_accuracy: 0.8620 - 2s/epoch - 3ms/step\n",
      "Epoch 27/100\n",
      "750/750 - 2s - loss: 0.3464 - accuracy: 0.8551 - val_loss: 0.3419 - val_accuracy: 0.8604 - 2s/epoch - 3ms/step\n",
      "Epoch 28/100\n",
      "750/750 - 2s - loss: 0.3394 - accuracy: 0.8585 - val_loss: 0.3441 - val_accuracy: 0.8596 - 2s/epoch - 3ms/step\n",
      "Epoch 29/100\n",
      "750/750 - 2s - loss: 0.3377 - accuracy: 0.8605 - val_loss: 0.3466 - val_accuracy: 0.8572 - 2s/epoch - 3ms/step\n",
      "Epoch 30/100\n",
      "750/750 - 2s - loss: 0.3469 - accuracy: 0.8541 - val_loss: 0.3440 - val_accuracy: 0.8616 - 2s/epoch - 3ms/step\n",
      "Epoch 31/100\n",
      "750/750 - 2s - loss: 0.3443 - accuracy: 0.8561 - val_loss: 0.3436 - val_accuracy: 0.8616 - 2s/epoch - 3ms/step\n",
      "Epoch 32/100\n",
      "750/750 - 2s - loss: 0.3412 - accuracy: 0.8591 - val_loss: 0.3431 - val_accuracy: 0.8628 - 2s/epoch - 3ms/step\n",
      "Epoch 33/100\n",
      "750/750 - 2s - loss: 0.3456 - accuracy: 0.8569 - val_loss: 0.3427 - val_accuracy: 0.8612 - 2s/epoch - 3ms/step\n",
      "Epoch 34/100\n",
      "750/750 - 2s - loss: 0.3434 - accuracy: 0.8572 - val_loss: 0.3425 - val_accuracy: 0.8624 - 2s/epoch - 3ms/step\n",
      "Epoch 35/100\n",
      "750/750 - 2s - loss: 0.3412 - accuracy: 0.8585 - val_loss: 0.3403 - val_accuracy: 0.8648 - 2s/epoch - 3ms/step\n",
      "Epoch 36/100\n",
      "750/750 - 2s - loss: 0.3392 - accuracy: 0.8593 - val_loss: 0.3433 - val_accuracy: 0.8644 - 2s/epoch - 3ms/step\n",
      "Epoch 37/100\n",
      "750/750 - 2s - loss: 0.3406 - accuracy: 0.8577 - val_loss: 0.3420 - val_accuracy: 0.8636 - 2s/epoch - 3ms/step\n",
      "Epoch 38/100\n",
      "750/750 - 2s - loss: 0.3384 - accuracy: 0.8604 - val_loss: 0.3420 - val_accuracy: 0.8600 - 2s/epoch - 3ms/step\n",
      "Epoch 39/100\n",
      "750/750 - 2s - loss: 0.3398 - accuracy: 0.8580 - val_loss: 0.3435 - val_accuracy: 0.8624 - 2s/epoch - 3ms/step\n",
      "Epoch 40/100\n",
      "750/750 - 2s - loss: 0.3362 - accuracy: 0.8603 - val_loss: 0.3432 - val_accuracy: 0.8616 - 2s/epoch - 3ms/step\n",
      "Epoch 41/100\n",
      "750/750 - 2s - loss: 0.3432 - accuracy: 0.8587 - val_loss: 0.3478 - val_accuracy: 0.8656 - 2s/epoch - 3ms/step\n",
      "Epoch 42/100\n",
      "750/750 - 2s - loss: 0.3376 - accuracy: 0.8619 - val_loss: 0.3467 - val_accuracy: 0.8572 - 2s/epoch - 3ms/step\n",
      "Epoch 43/100\n",
      "750/750 - 2s - loss: 0.3407 - accuracy: 0.8551 - val_loss: 0.3421 - val_accuracy: 0.8652 - 2s/epoch - 3ms/step\n",
      "Epoch 44/100\n",
      "750/750 - 2s - loss: 0.3387 - accuracy: 0.8600 - val_loss: 0.3446 - val_accuracy: 0.8604 - 2s/epoch - 3ms/step\n",
      "Epoch 45/100\n",
      "750/750 - 2s - loss: 0.3409 - accuracy: 0.8587 - val_loss: 0.3448 - val_accuracy: 0.8624 - 2s/epoch - 2ms/step\n",
      "Epoch 46/100\n",
      "750/750 - 2s - loss: 0.3422 - accuracy: 0.8557 - val_loss: 0.3440 - val_accuracy: 0.8624 - 2s/epoch - 2ms/step\n",
      "Epoch 47/100\n",
      "750/750 - 2s - loss: 0.3378 - accuracy: 0.8613 - val_loss: 0.3426 - val_accuracy: 0.8648 - 2s/epoch - 3ms/step\n",
      "Epoch 48/100\n",
      "750/750 - 2s - loss: 0.3369 - accuracy: 0.8604 - val_loss: 0.3427 - val_accuracy: 0.8640 - 2s/epoch - 3ms/step\n",
      "Epoch 49/100\n",
      "750/750 - 2s - loss: 0.3388 - accuracy: 0.8591 - val_loss: 0.3432 - val_accuracy: 0.8624 - 2s/epoch - 3ms/step\n",
      "Epoch 50/100\n",
      "750/750 - 2s - loss: 0.3415 - accuracy: 0.8632 - val_loss: 0.3455 - val_accuracy: 0.8620 - 2s/epoch - 3ms/step\n",
      "Epoch 51/100\n",
      "750/750 - 2s - loss: 0.3392 - accuracy: 0.8573 - val_loss: 0.3413 - val_accuracy: 0.8632 - 2s/epoch - 3ms/step\n",
      "Epoch 52/100\n",
      "750/750 - 2s - loss: 0.3402 - accuracy: 0.8603 - val_loss: 0.3421 - val_accuracy: 0.8656 - 2s/epoch - 3ms/step\n",
      "Epoch 53/100\n",
      "750/750 - 2s - loss: 0.3386 - accuracy: 0.8623 - val_loss: 0.3432 - val_accuracy: 0.8656 - 2s/epoch - 3ms/step\n",
      "Epoch 54/100\n",
      "750/750 - 2s - loss: 0.3418 - accuracy: 0.8577 - val_loss: 0.3443 - val_accuracy: 0.8632 - 2s/epoch - 2ms/step\n",
      "Epoch 55/100\n",
      "750/750 - 2s - loss: 0.3396 - accuracy: 0.8600 - val_loss: 0.3451 - val_accuracy: 0.8624 - 2s/epoch - 2ms/step\n",
      "Epoch 56/100\n",
      "750/750 - 2s - loss: 0.3323 - accuracy: 0.8597 - val_loss: 0.3474 - val_accuracy: 0.8632 - 2s/epoch - 2ms/step\n",
      "Epoch 57/100\n",
      "750/750 - 2s - loss: 0.3371 - accuracy: 0.8617 - val_loss: 0.3433 - val_accuracy: 0.8632 - 2s/epoch - 3ms/step\n",
      "Epoch 58/100\n",
      "750/750 - 2s - loss: 0.3365 - accuracy: 0.8608 - val_loss: 0.3435 - val_accuracy: 0.8636 - 2s/epoch - 3ms/step\n",
      "Epoch 59/100\n",
      "750/750 - 2s - loss: 0.3369 - accuracy: 0.8628 - val_loss: 0.3466 - val_accuracy: 0.8648 - 2s/epoch - 2ms/step\n",
      "Epoch 60/100\n",
      "750/750 - 2s - loss: 0.3376 - accuracy: 0.8615 - val_loss: 0.3416 - val_accuracy: 0.8640 - 2s/epoch - 2ms/step\n",
      "Epoch 61/100\n",
      "750/750 - 2s - loss: 0.3371 - accuracy: 0.8599 - val_loss: 0.3428 - val_accuracy: 0.8640 - 2s/epoch - 2ms/step\n",
      "Epoch 62/100\n",
      "750/750 - 2s - loss: 0.3379 - accuracy: 0.8641 - val_loss: 0.3417 - val_accuracy: 0.8600 - 2s/epoch - 2ms/step\n",
      "Epoch 63/100\n",
      "750/750 - 2s - loss: 0.3382 - accuracy: 0.8601 - val_loss: 0.3423 - val_accuracy: 0.8656 - 2s/epoch - 2ms/step\n",
      "Epoch 64/100\n",
      "750/750 - 2s - loss: 0.3372 - accuracy: 0.8609 - val_loss: 0.3467 - val_accuracy: 0.8604 - 2s/epoch - 2ms/step\n",
      "Epoch 65/100\n",
      "750/750 - 2s - loss: 0.3344 - accuracy: 0.8625 - val_loss: 0.3419 - val_accuracy: 0.8648 - 2s/epoch - 2ms/step\n",
      "Epoch 66/100\n",
      "750/750 - 2s - loss: 0.3337 - accuracy: 0.8619 - val_loss: 0.3401 - val_accuracy: 0.8632 - 2s/epoch - 2ms/step\n",
      "Epoch 67/100\n",
      "750/750 - 2s - loss: 0.3400 - accuracy: 0.8592 - val_loss: 0.3436 - val_accuracy: 0.8652 - 2s/epoch - 3ms/step\n",
      "Epoch 68/100\n",
      "750/750 - 2s - loss: 0.3381 - accuracy: 0.8632 - val_loss: 0.3440 - val_accuracy: 0.8620 - 2s/epoch - 3ms/step\n",
      "Epoch 69/100\n",
      "750/750 - 2s - loss: 0.3326 - accuracy: 0.8635 - val_loss: 0.3455 - val_accuracy: 0.8660 - 2s/epoch - 3ms/step\n",
      "Epoch 70/100\n",
      "750/750 - 2s - loss: 0.3399 - accuracy: 0.8595 - val_loss: 0.3428 - val_accuracy: 0.8632 - 2s/epoch - 2ms/step\n",
      "Epoch 71/100\n",
      "750/750 - 2s - loss: 0.3373 - accuracy: 0.8597 - val_loss: 0.3416 - val_accuracy: 0.8628 - 2s/epoch - 2ms/step\n",
      "Epoch 72/100\n",
      "750/750 - 2s - loss: 0.3340 - accuracy: 0.8613 - val_loss: 0.3394 - val_accuracy: 0.8648 - 2s/epoch - 3ms/step\n",
      "Epoch 73/100\n",
      "750/750 - 2s - loss: 0.3367 - accuracy: 0.8627 - val_loss: 0.3449 - val_accuracy: 0.8620 - 2s/epoch - 3ms/step\n",
      "Epoch 74/100\n",
      "750/750 - 2s - loss: 0.3373 - accuracy: 0.8605 - val_loss: 0.3437 - val_accuracy: 0.8636 - 2s/epoch - 3ms/step\n",
      "Epoch 75/100\n",
      "750/750 - 2s - loss: 0.3364 - accuracy: 0.8607 - val_loss: 0.3435 - val_accuracy: 0.8664 - 2s/epoch - 3ms/step\n",
      "Epoch 76/100\n",
      "750/750 - 2s - loss: 0.3362 - accuracy: 0.8623 - val_loss: 0.3411 - val_accuracy: 0.8664 - 2s/epoch - 2ms/step\n",
      "Epoch 77/100\n",
      "750/750 - 2s - loss: 0.3327 - accuracy: 0.8619 - val_loss: 0.3441 - val_accuracy: 0.8620 - 2s/epoch - 2ms/step\n",
      "Epoch 78/100\n",
      "750/750 - 2s - loss: 0.3334 - accuracy: 0.8623 - val_loss: 0.3426 - val_accuracy: 0.8616 - 2s/epoch - 3ms/step\n",
      "Epoch 79/100\n",
      "750/750 - 2s - loss: 0.3340 - accuracy: 0.8636 - val_loss: 0.3450 - val_accuracy: 0.8632 - 2s/epoch - 3ms/step\n",
      "Epoch 80/100\n",
      "750/750 - 2s - loss: 0.3325 - accuracy: 0.8644 - val_loss: 0.3428 - val_accuracy: 0.8608 - 2s/epoch - 2ms/step\n",
      "Epoch 81/100\n",
      "750/750 - 2s - loss: 0.3356 - accuracy: 0.8629 - val_loss: 0.3444 - val_accuracy: 0.8632 - 2s/epoch - 3ms/step\n",
      "Epoch 82/100\n",
      "750/750 - 2s - loss: 0.3359 - accuracy: 0.8632 - val_loss: 0.3413 - val_accuracy: 0.8628 - 2s/epoch - 2ms/step\n",
      "Epoch 83/100\n",
      "750/750 - 2s - loss: 0.3343 - accuracy: 0.8624 - val_loss: 0.3425 - val_accuracy: 0.8616 - 2s/epoch - 3ms/step\n",
      "Epoch 84/100\n",
      "750/750 - 2s - loss: 0.3339 - accuracy: 0.8605 - val_loss: 0.3422 - val_accuracy: 0.8612 - 2s/epoch - 3ms/step\n",
      "Epoch 85/100\n",
      "750/750 - 2s - loss: 0.3372 - accuracy: 0.8605 - val_loss: 0.3422 - val_accuracy: 0.8636 - 2s/epoch - 3ms/step\n",
      "Epoch 86/100\n",
      "750/750 - 2s - loss: 0.3315 - accuracy: 0.8668 - val_loss: 0.3432 - val_accuracy: 0.8628 - 2s/epoch - 3ms/step\n",
      "Epoch 87/100\n",
      "750/750 - 2s - loss: 0.3316 - accuracy: 0.8608 - val_loss: 0.3443 - val_accuracy: 0.8632 - 2s/epoch - 2ms/step\n",
      "Epoch 88/100\n",
      "750/750 - 2s - loss: 0.3304 - accuracy: 0.8644 - val_loss: 0.3415 - val_accuracy: 0.8632 - 2s/epoch - 3ms/step\n",
      "Epoch 89/100\n",
      "750/750 - 2s - loss: 0.3342 - accuracy: 0.8633 - val_loss: 0.3425 - val_accuracy: 0.8628 - 2s/epoch - 3ms/step\n",
      "Epoch 90/100\n",
      "750/750 - 2s - loss: 0.3339 - accuracy: 0.8655 - val_loss: 0.3428 - val_accuracy: 0.8636 - 2s/epoch - 2ms/step\n",
      "Epoch 91/100\n",
      "750/750 - 2s - loss: 0.3372 - accuracy: 0.8591 - val_loss: 0.3432 - val_accuracy: 0.8624 - 2s/epoch - 3ms/step\n",
      "Epoch 92/100\n",
      "750/750 - 2s - loss: 0.3349 - accuracy: 0.8636 - val_loss: 0.3418 - val_accuracy: 0.8632 - 2s/epoch - 3ms/step\n",
      "Epoch 93/100\n",
      "750/750 - 2s - loss: 0.3330 - accuracy: 0.8627 - val_loss: 0.3430 - val_accuracy: 0.8628 - 2s/epoch - 3ms/step\n",
      "Epoch 94/100\n",
      "750/750 - 2s - loss: 0.3355 - accuracy: 0.8628 - val_loss: 0.3432 - val_accuracy: 0.8628 - 2s/epoch - 3ms/step\n",
      "Epoch 95/100\n",
      "750/750 - 2s - loss: 0.3347 - accuracy: 0.8640 - val_loss: 0.3413 - val_accuracy: 0.8652 - 2s/epoch - 2ms/step\n",
      "Epoch 96/100\n",
      "750/750 - 2s - loss: 0.3305 - accuracy: 0.8635 - val_loss: 0.3441 - val_accuracy: 0.8608 - 2s/epoch - 3ms/step\n",
      "Epoch 97/100\n",
      "750/750 - 2s - loss: 0.3392 - accuracy: 0.8619 - val_loss: 0.3446 - val_accuracy: 0.8640 - 2s/epoch - 3ms/step\n",
      "Epoch 98/100\n",
      "750/750 - 2s - loss: 0.3323 - accuracy: 0.8652 - val_loss: 0.3418 - val_accuracy: 0.8672 - 2s/epoch - 3ms/step\n",
      "Epoch 99/100\n",
      "750/750 - 2s - loss: 0.3345 - accuracy: 0.8629 - val_loss: 0.3449 - val_accuracy: 0.8644 - 2s/epoch - 3ms/step\n",
      "Epoch 100/100\n",
      "750/750 - 2s - loss: 0.3296 - accuracy: 0.8629 - val_loss: 0.3418 - val_accuracy: 0.8660 - 2s/epoch - 2ms/step\n",
      "Model: \"sequential\"\n",
      "_________________________________________________________________\n",
      " Layer (type)                Output Shape              Param #   \n",
      "=================================================================\n",
      " dense (Dense)               (10, 22)                  308       \n",
      "                                                                 \n",
      " dropout (Dropout)           (10, 22)                  0         \n",
      "                                                                 \n",
      " dense_1 (Dense)             (10, 13)                  299       \n",
      "                                                                 \n",
      " dropout_1 (Dropout)         (10, 13)                  0         \n",
      "                                                                 \n",
      " dense_2 (Dense)             (10, 1)                   14        \n",
      "                                                                 \n",
      "=================================================================\n",
      "Total params: 621\n",
      "Trainable params: 621\n",
      "Non-trainable params: 0\n",
      "_________________________________________________________________\n"
     ]
    }
   ],
   "source": [
    "# select model with best hyperparameters and fit to training data\n",
    "best_model = tuner.get_best_models()[0]\n",
    "history = best_model.fit(X_train, y_train, batch_size = 10, epochs = 100, verbose = 2, validation_data = (X_val,y_val))\n",
    "best_model.summary()"
   ]
  },
  {
   "cell_type": "code",
   "execution_count": 263,
   "id": "715c6c95",
   "metadata": {},
   "outputs": [
    {
     "name": "stdout",
     "output_type": "stream",
     "text": [
      "63/63 [==============================] - 0s 2ms/step - loss: 0.3161 - accuracy: 0.8710\n",
      "test loss:  0.31609538197517395\n",
      "test accuracy:  0.8709999918937683\n"
     ]
    }
   ],
   "source": [
    "# evaluate model performance\n",
    "best_model.evaluate(X_test,y_test,verbose=1)"
   ]
  },
  {
   "cell_type": "code",
   "execution_count": 257,
   "id": "2c29fd95",
   "metadata": {},
   "outputs": [
    {
     "data": {
      "image/png": "[encoded data removed]",
      "text/plain": [
       "<Figure size 360x576 with 1 Axes>"
      ]
     },
     "metadata": {
      "needs_background": "light"
     },
     "output_type": "display_data"
    }
   ],
   "source": [
    "# view historical training performance\n",
    "pd.DataFrame(history.history).plot(figsize=(5,8))\n",
    "plt.grid(True)\n",
    "#plt.gca()\n",
    "plt.show()"
   ]
  },
  {
   "cell_type": "code",
   "execution_count": 264,
   "id": "739dd75e",
   "metadata": {},
   "outputs": [
    {
     "name": "stdout",
     "output_type": "stream",
     "text": [
      "63/63 [==============================] - 0s 2ms/step\n"
     ]
    },
    {
     "data": {
      "text/plain": [
       "array([[1552,   33],\n",
       "       [ 225,  190]], dtype=int64)"
      ]
     },
     "execution_count": 264,
     "metadata": {},
     "output_type": "execute_result"
    }
   ],
   "source": [
    "# generate predictions using test dataset (has not been seen by model)\n",
    "y_pred = best_model.predict(X_test)\n",
    "y_pred = (y_pred>0.5)\n",
    "conf_matrix = confusion_matrix(y_test.values, y_pred)\n",
    "conf_matrix"
   ]
  },
  {
   "cell_type": "code",
   "execution_count": 265,
   "id": "7fdf483b",
   "metadata": {},
   "outputs": [
    {
     "data": {
      "text/plain": [
       "<AxesSubplot:>"
      ]
     },
     "execution_count": 265,
     "metadata": {},
     "output_type": "execute_result"
    },
    {
     "data": {
      "image/png": "[encoded data removed]",
      "text/plain": [
       "<Figure size 432x288 with 2 Axes>"
      ]
     },
     "metadata": {
      "needs_background": "light"
     },
     "output_type": "display_data"
    }
   ],
   "source": [
    "# visualize percentages of [TP, FP], [FN, TN]\n",
    "sns.heatmap(conf_matrix/np.sum(conf_matrix),annot=True)"
   ]
  },
  {
   "cell_type": "code",
   "execution_count": 266,
   "id": "96427166",
   "metadata": {},
   "outputs": [
    {
     "name": "stdout",
     "output_type": "stream",
     "text": [
      "precision:  0.852017937219731\n",
      "recall:  0.4578313253012048\n",
      "f1 score:  0.5956112852664577\n"
     ]
    }
   ],
   "source": [
    "# further evaluate model performance for tuning\n",
    "print(\"precision: \", precision_score(y_test, y_pred))\n",
    "print(\"recall: \", recall_score(y_test, y_pred))\n",
    "print(\"f1 score: \", f1_score(y_pred, y_test))"
   ]
  }
 ],
 "metadata": {
  "kernelspec": {
   "display_name": "Python 3.9.12 ('base')",
   "language": "python",
   "name": "python3"
  },
  "language_info": {
   "codemirror_mode": {
    "name": "ipython",
    "version": 3
   },
   "file_extension": ".py",
   "mimetype": "text/x-python",
   "name": "python",
   "nbconvert_exporter": "python",
   "pygments_lexer": "ipython3",
   "version": "3.9.12"
  },
  "vscode": {
   "interpreter": {
    "hash": "28eb69b2d3519ab52eb922e93e6adc9f85284b5ca071cfeacbcc0852b64bf64b"
   }
  }
 },
 "nbformat": 4,
 "nbformat_minor": 5
}
